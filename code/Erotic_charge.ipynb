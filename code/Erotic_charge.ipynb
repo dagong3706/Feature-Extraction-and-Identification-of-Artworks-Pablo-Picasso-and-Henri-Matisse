{
 "cells": [
  {
   "cell_type": "code",
   "execution_count": 329,
   "metadata": {},
   "outputs": [],
   "source": [
    "import pandas as pd\n",
    "import numpy as np\n",
    "import matplotlib.pyplot as plt \n",
    "import re\n",
    "import seaborn as sns"
   ]
  },
  {
   "cell_type": "code",
   "execution_count": 330,
   "metadata": {},
   "outputs": [],
   "source": [
    "p_data = pd.read_csv('~/Documents/GitHub/dsc160-code/dsc160-midterm-404-not-found/data/picasso_women.csv')\n",
    "m_data = pd.read_csv('~/Documents/GitHub/dsc160-code/dsc160-midterm-404-not-found/data/matisse_women.csv')"
   ]
  },
  {
   "cell_type": "code",
   "execution_count": 331,
   "metadata": {},
   "outputs": [],
   "source": [
    "p_data = p_data.drop(['Unnamed: 0'],axis = 1)\n",
    "m_data = m_data.drop(['Unnamed: 0'],axis = 1)"
   ]
  },
  {
   "cell_type": "code",
   "execution_count": 332,
   "metadata": {},
   "outputs": [
    {
     "data": {
      "image/png": "[encoded data removed]",
      "text/plain": [
       "<Figure size 432x288 with 1 Axes>"
      ]
     },
     "metadata": {
      "needs_background": "light"
     },
     "output_type": "display_data"
    }
   ],
   "source": [
    "p_data.RMS_contrast.mean()\n",
    "sns.distplot(p_data.RMS_contrast);"
   ]
  },
  {
   "cell_type": "code",
   "execution_count": 333,
   "metadata": {},
   "outputs": [
    {
     "data": {
      "image/png": "[encoded data removed]",
      "text/plain": [
       "<Figure size 432x288 with 1 Axes>"
      ]
     },
     "metadata": {
      "needs_background": "light"
     },
     "output_type": "display_data"
    }
   ],
   "source": [
    "sns.distplot(m_data.RMS_contrast);"
   ]
  },
  {
   "cell_type": "markdown",
   "metadata": {},
   "source": [
    "**Analysis of Pablo Picasso' Portraits**"
   ]
  },
  {
   "cell_type": "code",
   "execution_count": 334,
   "metadata": {},
   "outputs": [],
   "source": [
    "# p_data = p_data.drop(['Unnamed: 0'],axis = 1)"
   ]
  },
  {
   "cell_type": "code",
   "execution_count": 335,
   "metadata": {},
   "outputs": [
    {
     "data": {
      "text/html": [
       "<div>\n",
       "<style scoped>\n",
       "    .dataframe tbody tr th:only-of-type {\n",
       "        vertical-align: middle;\n",
       "    }\n",
       "\n",
       "    .dataframe tbody tr th {\n",
       "        vertical-align: top;\n",
       "    }\n",
       "\n",
       "    .dataframe thead th {\n",
       "        text-align: right;\n",
       "    }\n",
       "</style>\n",
       "<table border=\"1\" class=\"dataframe\">\n",
       "  <thead>\n",
       "    <tr style=\"text-align: right;\">\n",
       "      <th></th>\n",
       "      <th>Picturesource</th>\n",
       "      <th>Painting</th>\n",
       "      <th>Year</th>\n",
       "      <th>Portrait</th>\n",
       "      <th>RMS_contrast</th>\n",
       "      <th>AVG_entropy</th>\n",
       "      <th>RMS_contrast_log</th>\n",
       "      <th>AVG_entropy_log</th>\n",
       "    </tr>\n",
       "  </thead>\n",
       "  <tbody>\n",
       "    <tr>\n",
       "      <th>0</th>\n",
       "      <td>images-works-3437_s.jpg</td>\n",
       "      <td>('maternity', 1905)</td>\n",
       "      <td>1905</td>\n",
       "      <td>0.0</td>\n",
       "      <td>0.271341</td>\n",
       "      <td>3.756512</td>\n",
       "      <td>-1.881822</td>\n",
       "      <td>1.909394</td>\n",
       "    </tr>\n",
       "    <tr>\n",
       "      <th>1</th>\n",
       "      <td>images-works-56_s.jpg</td>\n",
       "      <td>(\"les demoiselles d'avignon (the young ladies ...</td>\n",
       "      <td>1907</td>\n",
       "      <td>1.0</td>\n",
       "      <td>0.197231</td>\n",
       "      <td>5.041706</td>\n",
       "      <td>-2.342045</td>\n",
       "      <td>2.333912</td>\n",
       "    </tr>\n",
       "    <tr>\n",
       "      <th>2</th>\n",
       "      <td>images-works-1513_s.jpg</td>\n",
       "      <td>('portrait of woman', 1938)</td>\n",
       "      <td>1938</td>\n",
       "      <td>1.0</td>\n",
       "      <td>0.191595</td>\n",
       "      <td>5.023209</td>\n",
       "      <td>-2.383869</td>\n",
       "      <td>2.328609</td>\n",
       "    </tr>\n",
       "    <tr>\n",
       "      <th>3</th>\n",
       "      <td>images-works-3570_s.jpg</td>\n",
       "      <td>('naked woman', 1902)</td>\n",
       "      <td>1902</td>\n",
       "      <td>1.0</td>\n",
       "      <td>0.145416</td>\n",
       "      <td>5.223912</td>\n",
       "      <td>-2.781742</td>\n",
       "      <td>2.385131</td>\n",
       "    </tr>\n",
       "    <tr>\n",
       "      <th>4</th>\n",
       "      <td>images-works-1459_s.jpg</td>\n",
       "      <td>('woman with a blue hat', 1939)</td>\n",
       "      <td>1939</td>\n",
       "      <td>1.0</td>\n",
       "      <td>0.262751</td>\n",
       "      <td>5.015289</td>\n",
       "      <td>-1.928229</td>\n",
       "      <td>2.326333</td>\n",
       "    </tr>\n",
       "    <tr>\n",
       "      <th>...</th>\n",
       "      <td>...</td>\n",
       "      <td>...</td>\n",
       "      <td>...</td>\n",
       "      <td>...</td>\n",
       "      <td>...</td>\n",
       "      <td>...</td>\n",
       "      <td>...</td>\n",
       "      <td>...</td>\n",
       "    </tr>\n",
       "    <tr>\n",
       "      <th>118</th>\n",
       "      <td>images-works-4053_s.jpg</td>\n",
       "      <td>('seated woman in blue dress', 1939)</td>\n",
       "      <td>1939</td>\n",
       "      <td>1.0</td>\n",
       "      <td>0.146214</td>\n",
       "      <td>4.933578</td>\n",
       "      <td>-2.773851</td>\n",
       "      <td>2.302634</td>\n",
       "    </tr>\n",
       "    <tr>\n",
       "      <th>119</th>\n",
       "      <td>images-works-2244_s.jpg</td>\n",
       "      <td>('profile female bust', 1932)</td>\n",
       "      <td>1932</td>\n",
       "      <td>1.0</td>\n",
       "      <td>0.261993</td>\n",
       "      <td>4.519896</td>\n",
       "      <td>-1.932402</td>\n",
       "      <td>2.176290</td>\n",
       "    </tr>\n",
       "    <tr>\n",
       "      <th>120</th>\n",
       "      <td>images-works-1760_s.jpg</td>\n",
       "      <td>('woman sitting in an armchair', 1941)</td>\n",
       "      <td>1941</td>\n",
       "      <td>1.0</td>\n",
       "      <td>0.142179</td>\n",
       "      <td>4.642326</td>\n",
       "      <td>-2.814218</td>\n",
       "      <td>2.214848</td>\n",
       "    </tr>\n",
       "    <tr>\n",
       "      <th>121</th>\n",
       "      <td>images-works-2693_s.jpg</td>\n",
       "      <td>(\"head and woman's hand\", 1921)</td>\n",
       "      <td>1921</td>\n",
       "      <td>1.0</td>\n",
       "      <td>0.202769</td>\n",
       "      <td>4.721895</td>\n",
       "      <td>-2.302092</td>\n",
       "      <td>2.239366</td>\n",
       "    </tr>\n",
       "    <tr>\n",
       "      <th>122</th>\n",
       "      <td>images-works-1702_s.jpg</td>\n",
       "      <td>('woman with hat (dora maar)', 1938)</td>\n",
       "      <td>1938</td>\n",
       "      <td>1.0</td>\n",
       "      <td>0.112868</td>\n",
       "      <td>4.625793</td>\n",
       "      <td>-3.147291</td>\n",
       "      <td>2.209701</td>\n",
       "    </tr>\n",
       "  </tbody>\n",
       "</table>\n",
       "<p>123 rows × 8 columns</p>\n",
       "</div>"
      ],
      "text/plain": [
       "               Picturesource  \\\n",
       "0    images-works-3437_s.jpg   \n",
       "1      images-works-56_s.jpg   \n",
       "2    images-works-1513_s.jpg   \n",
       "3    images-works-3570_s.jpg   \n",
       "4    images-works-1459_s.jpg   \n",
       "..                       ...   \n",
       "118  images-works-4053_s.jpg   \n",
       "119  images-works-2244_s.jpg   \n",
       "120  images-works-1760_s.jpg   \n",
       "121  images-works-2693_s.jpg   \n",
       "122  images-works-1702_s.jpg   \n",
       "\n",
       "                                              Painting  Year  Portrait  \\\n",
       "0                                  ('maternity', 1905)  1905       0.0   \n",
       "1    (\"les demoiselles d'avignon (the young ladies ...  1907       1.0   \n",
       "2                          ('portrait of woman', 1938)  1938       1.0   \n",
       "3                                ('naked woman', 1902)  1902       1.0   \n",
       "4                      ('woman with a blue hat', 1939)  1939       1.0   \n",
       "..                                                 ...   ...       ...   \n",
       "118               ('seated woman in blue dress', 1939)  1939       1.0   \n",
       "119                      ('profile female bust', 1932)  1932       1.0   \n",
       "120             ('woman sitting in an armchair', 1941)  1941       1.0   \n",
       "121                    (\"head and woman's hand\", 1921)  1921       1.0   \n",
       "122               ('woman with hat (dora maar)', 1938)  1938       1.0   \n",
       "\n",
       "     RMS_contrast  AVG_entropy  RMS_contrast_log  AVG_entropy_log  \n",
       "0        0.271341     3.756512         -1.881822         1.909394  \n",
       "1        0.197231     5.041706         -2.342045         2.333912  \n",
       "2        0.191595     5.023209         -2.383869         2.328609  \n",
       "3        0.145416     5.223912         -2.781742         2.385131  \n",
       "4        0.262751     5.015289         -1.928229         2.326333  \n",
       "..            ...          ...               ...              ...  \n",
       "118      0.146214     4.933578         -2.773851         2.302634  \n",
       "119      0.261993     4.519896         -1.932402         2.176290  \n",
       "120      0.142179     4.642326         -2.814218         2.214848  \n",
       "121      0.202769     4.721895         -2.302092         2.239366  \n",
       "122      0.112868     4.625793         -3.147291         2.209701  \n",
       "\n",
       "[123 rows x 8 columns]"
      ]
     },
     "execution_count": 335,
     "metadata": {},
     "output_type": "execute_result"
    }
   ],
   "source": [
    "p_data = p_data.assign(RMS_contrast_log = np.log2(p_data.RMS_contrast)).assign(AVG_entropy_log = np.log2(p_data.AVG_entropy))\n",
    "p_data"
   ]
  },
  {
   "cell_type": "code",
   "execution_count": 353,
   "metadata": {},
   "outputs": [
    {
     "data": {
      "text/plain": [
       "<matplotlib.collections.PathCollection at 0x12402dd68>"
      ]
     },
     "execution_count": 353,
     "metadata": {},
     "output_type": "execute_result"
    },
    {
     "data": {
      "image/png": "[encoded data removed]",
      "text/plain": [
       "<Figure size 432x288 with 1 Axes>"
      ]
     },
     "metadata": {
      "needs_background": "light"
     },
     "output_type": "display_data"
    }
   ],
   "source": [
    "plt.scatter(p_data.Year, p_data.erotic_charge, c='blue', alpha=0.5)"
   ]
  },
  {
   "cell_type": "code",
   "execution_count": 336,
   "metadata": {},
   "outputs": [
    {
     "data": {
      "text/html": [
       "<div>\n",
       "<style scoped>\n",
       "    .dataframe tbody tr th:only-of-type {\n",
       "        vertical-align: middle;\n",
       "    }\n",
       "\n",
       "    .dataframe tbody tr th {\n",
       "        vertical-align: top;\n",
       "    }\n",
       "\n",
       "    .dataframe thead th {\n",
       "        text-align: right;\n",
       "    }\n",
       "</style>\n",
       "<table border=\"1\" class=\"dataframe\">\n",
       "  <thead>\n",
       "    <tr style=\"text-align: right;\">\n",
       "      <th></th>\n",
       "      <th>count</th>\n",
       "      <th>mean</th>\n",
       "      <th>std</th>\n",
       "      <th>min</th>\n",
       "      <th>25%</th>\n",
       "      <th>50%</th>\n",
       "      <th>75%</th>\n",
       "      <th>max</th>\n",
       "    </tr>\n",
       "    <tr>\n",
       "      <th>Portrait</th>\n",
       "      <th></th>\n",
       "      <th></th>\n",
       "      <th></th>\n",
       "      <th></th>\n",
       "      <th></th>\n",
       "      <th></th>\n",
       "      <th></th>\n",
       "      <th></th>\n",
       "    </tr>\n",
       "  </thead>\n",
       "  <tbody>\n",
       "    <tr>\n",
       "      <th>0.0</th>\n",
       "      <td>35.0</td>\n",
       "      <td>0.194652</td>\n",
       "      <td>0.061200</td>\n",
       "      <td>0.087192</td>\n",
       "      <td>0.162878</td>\n",
       "      <td>0.189273</td>\n",
       "      <td>0.224963</td>\n",
       "      <td>0.360254</td>\n",
       "    </tr>\n",
       "    <tr>\n",
       "      <th>1.0</th>\n",
       "      <td>88.0</td>\n",
       "      <td>0.221022</td>\n",
       "      <td>0.056623</td>\n",
       "      <td>0.112868</td>\n",
       "      <td>0.187488</td>\n",
       "      <td>0.229779</td>\n",
       "      <td>0.258422</td>\n",
       "      <td>0.367527</td>\n",
       "    </tr>\n",
       "  </tbody>\n",
       "</table>\n",
       "</div>"
      ],
      "text/plain": [
       "          count      mean       std       min       25%       50%       75%  \\\n",
       "Portrait                                                                      \n",
       "0.0        35.0  0.194652  0.061200  0.087192  0.162878  0.189273  0.224963   \n",
       "1.0        88.0  0.221022  0.056623  0.112868  0.187488  0.229779  0.258422   \n",
       "\n",
       "               max  \n",
       "Portrait            \n",
       "0.0       0.360254  \n",
       "1.0       0.367527  "
      ]
     },
     "execution_count": 336,
     "metadata": {},
     "output_type": "execute_result"
    }
   ],
   "source": [
    "p_data.groupby(['Portrait']).RMS_contrast.describe()"
   ]
  },
  {
   "cell_type": "code",
   "execution_count": 337,
   "metadata": {},
   "outputs": [
    {
     "data": {
      "text/html": [
       "<div>\n",
       "<style scoped>\n",
       "    .dataframe tbody tr th:only-of-type {\n",
       "        vertical-align: middle;\n",
       "    }\n",
       "\n",
       "    .dataframe tbody tr th {\n",
       "        vertical-align: top;\n",
       "    }\n",
       "\n",
       "    .dataframe thead th {\n",
       "        text-align: right;\n",
       "    }\n",
       "</style>\n",
       "<table border=\"1\" class=\"dataframe\">\n",
       "  <thead>\n",
       "    <tr style=\"text-align: right;\">\n",
       "      <th></th>\n",
       "      <th>count</th>\n",
       "      <th>mean</th>\n",
       "      <th>std</th>\n",
       "      <th>min</th>\n",
       "      <th>25%</th>\n",
       "      <th>50%</th>\n",
       "      <th>75%</th>\n",
       "      <th>max</th>\n",
       "    </tr>\n",
       "    <tr>\n",
       "      <th>Portrait</th>\n",
       "      <th></th>\n",
       "      <th></th>\n",
       "      <th></th>\n",
       "      <th></th>\n",
       "      <th></th>\n",
       "      <th></th>\n",
       "      <th></th>\n",
       "      <th></th>\n",
       "    </tr>\n",
       "  </thead>\n",
       "  <tbody>\n",
       "    <tr>\n",
       "      <th>0.0</th>\n",
       "      <td>35.0</td>\n",
       "      <td>-2.432895</td>\n",
       "      <td>0.471412</td>\n",
       "      <td>-3.519657</td>\n",
       "      <td>-2.618555</td>\n",
       "      <td>-2.401462</td>\n",
       "      <td>-2.152239</td>\n",
       "      <td>-1.472915</td>\n",
       "    </tr>\n",
       "    <tr>\n",
       "      <th>1.0</th>\n",
       "      <td>88.0</td>\n",
       "      <td>-2.227610</td>\n",
       "      <td>0.389999</td>\n",
       "      <td>-3.147291</td>\n",
       "      <td>-2.415128</td>\n",
       "      <td>-2.121683</td>\n",
       "      <td>-1.952243</td>\n",
       "      <td>-1.444076</td>\n",
       "    </tr>\n",
       "  </tbody>\n",
       "</table>\n",
       "</div>"
      ],
      "text/plain": [
       "          count      mean       std       min       25%       50%       75%  \\\n",
       "Portrait                                                                      \n",
       "0.0        35.0 -2.432895  0.471412 -3.519657 -2.618555 -2.401462 -2.152239   \n",
       "1.0        88.0 -2.227610  0.389999 -3.147291 -2.415128 -2.121683 -1.952243   \n",
       "\n",
       "               max  \n",
       "Portrait            \n",
       "0.0      -1.472915  \n",
       "1.0      -1.444076  "
      ]
     },
     "execution_count": 337,
     "metadata": {},
     "output_type": "execute_result"
    }
   ],
   "source": [
    "p_data.groupby(['Portrait']).RMS_contrast_log.describe()"
   ]
  },
  {
   "cell_type": "code",
   "execution_count": 338,
   "metadata": {},
   "outputs": [
    {
     "data": {
      "text/html": [
       "<div>\n",
       "<style scoped>\n",
       "    .dataframe tbody tr th:only-of-type {\n",
       "        vertical-align: middle;\n",
       "    }\n",
       "\n",
       "    .dataframe tbody tr th {\n",
       "        vertical-align: top;\n",
       "    }\n",
       "\n",
       "    .dataframe thead th {\n",
       "        text-align: right;\n",
       "    }\n",
       "</style>\n",
       "<table border=\"1\" class=\"dataframe\">\n",
       "  <thead>\n",
       "    <tr style=\"text-align: right;\">\n",
       "      <th></th>\n",
       "      <th>count</th>\n",
       "      <th>mean</th>\n",
       "      <th>std</th>\n",
       "      <th>min</th>\n",
       "      <th>25%</th>\n",
       "      <th>50%</th>\n",
       "      <th>75%</th>\n",
       "      <th>max</th>\n",
       "    </tr>\n",
       "    <tr>\n",
       "      <th>Portrait</th>\n",
       "      <th></th>\n",
       "      <th></th>\n",
       "      <th></th>\n",
       "      <th></th>\n",
       "      <th></th>\n",
       "      <th></th>\n",
       "      <th></th>\n",
       "      <th></th>\n",
       "    </tr>\n",
       "  </thead>\n",
       "  <tbody>\n",
       "    <tr>\n",
       "      <th>0.0</th>\n",
       "      <td>35.0</td>\n",
       "      <td>4.635955</td>\n",
       "      <td>0.387964</td>\n",
       "      <td>3.756512</td>\n",
       "      <td>4.425247</td>\n",
       "      <td>4.620800</td>\n",
       "      <td>4.992641</td>\n",
       "      <td>5.248086</td>\n",
       "    </tr>\n",
       "    <tr>\n",
       "      <th>1.0</th>\n",
       "      <td>88.0</td>\n",
       "      <td>4.743388</td>\n",
       "      <td>0.438597</td>\n",
       "      <td>2.733015</td>\n",
       "      <td>4.492905</td>\n",
       "      <td>4.810093</td>\n",
       "      <td>5.025614</td>\n",
       "      <td>5.480808</td>\n",
       "    </tr>\n",
       "  </tbody>\n",
       "</table>\n",
       "</div>"
      ],
      "text/plain": [
       "          count      mean       std       min       25%       50%       75%  \\\n",
       "Portrait                                                                      \n",
       "0.0        35.0  4.635955  0.387964  3.756512  4.425247  4.620800  4.992641   \n",
       "1.0        88.0  4.743388  0.438597  2.733015  4.492905  4.810093  5.025614   \n",
       "\n",
       "               max  \n",
       "Portrait            \n",
       "0.0       5.248086  \n",
       "1.0       5.480808  "
      ]
     },
     "execution_count": 338,
     "metadata": {},
     "output_type": "execute_result"
    }
   ],
   "source": [
    "p_data.groupby(['Portrait']).AVG_entropy.describe()"
   ]
  },
  {
   "cell_type": "code",
   "execution_count": 339,
   "metadata": {},
   "outputs": [
    {
     "data": {
      "text/html": [
       "<div>\n",
       "<style scoped>\n",
       "    .dataframe tbody tr th:only-of-type {\n",
       "        vertical-align: middle;\n",
       "    }\n",
       "\n",
       "    .dataframe tbody tr th {\n",
       "        vertical-align: top;\n",
       "    }\n",
       "\n",
       "    .dataframe thead th {\n",
       "        text-align: right;\n",
       "    }\n",
       "</style>\n",
       "<table border=\"1\" class=\"dataframe\">\n",
       "  <thead>\n",
       "    <tr style=\"text-align: right;\">\n",
       "      <th></th>\n",
       "      <th>count</th>\n",
       "      <th>mean</th>\n",
       "      <th>std</th>\n",
       "      <th>min</th>\n",
       "      <th>25%</th>\n",
       "      <th>50%</th>\n",
       "      <th>75%</th>\n",
       "      <th>max</th>\n",
       "    </tr>\n",
       "    <tr>\n",
       "      <th>Portrait</th>\n",
       "      <th></th>\n",
       "      <th></th>\n",
       "      <th></th>\n",
       "      <th></th>\n",
       "      <th></th>\n",
       "      <th></th>\n",
       "      <th></th>\n",
       "      <th></th>\n",
       "    </tr>\n",
       "  </thead>\n",
       "  <tbody>\n",
       "    <tr>\n",
       "      <th>0.0</th>\n",
       "      <td>35.0</td>\n",
       "      <td>2.207787</td>\n",
       "      <td>0.123957</td>\n",
       "      <td>1.909394</td>\n",
       "      <td>2.145757</td>\n",
       "      <td>2.208143</td>\n",
       "      <td>2.319756</td>\n",
       "      <td>2.391791</td>\n",
       "    </tr>\n",
       "    <tr>\n",
       "      <th>1.0</th>\n",
       "      <td>88.0</td>\n",
       "      <td>2.239141</td>\n",
       "      <td>0.145022</td>\n",
       "      <td>1.450493</td>\n",
       "      <td>2.167648</td>\n",
       "      <td>2.266059</td>\n",
       "      <td>2.329299</td>\n",
       "      <td>2.454388</td>\n",
       "    </tr>\n",
       "  </tbody>\n",
       "</table>\n",
       "</div>"
      ],
      "text/plain": [
       "          count      mean       std       min       25%       50%       75%  \\\n",
       "Portrait                                                                      \n",
       "0.0        35.0  2.207787  0.123957  1.909394  2.145757  2.208143  2.319756   \n",
       "1.0        88.0  2.239141  0.145022  1.450493  2.167648  2.266059  2.329299   \n",
       "\n",
       "               max  \n",
       "Portrait            \n",
       "0.0       2.391791  \n",
       "1.0       2.454388  "
      ]
     },
     "execution_count": 339,
     "metadata": {},
     "output_type": "execute_result"
    }
   ],
   "source": [
    "p_data.groupby(['Portrait']).AVG_entropy_log.describe()"
   ]
  },
  {
   "cell_type": "code",
   "execution_count": 340,
   "metadata": {},
   "outputs": [
    {
     "data": {
      "image/png": "[encoded data removed]",
      "text/plain": [
       "<Figure size 432x288 with 1 Axes>"
      ]
     },
     "metadata": {
      "needs_background": "light"
     },
     "output_type": "display_data"
    }
   ],
   "source": [
    "box_1 = sns.boxplot(x=\"Portrait\", y=\"RMS_contrast_log\", data=p_data)"
   ]
  },
  {
   "cell_type": "code",
   "execution_count": 341,
   "metadata": {},
   "outputs": [
    {
     "data": {
      "image/png": "[encoded data removed]",
      "text/plain": [
       "<Figure size 432x288 with 1 Axes>"
      ]
     },
     "metadata": {
      "needs_background": "light"
     },
     "output_type": "display_data"
    }
   ],
   "source": [
    "box_2 = sns.boxplot(x=\"Portrait\", y=\"AVG_entropy_log\", data=p_data)"
   ]
  },
  {
   "cell_type": "code",
   "execution_count": 342,
   "metadata": {},
   "outputs": [],
   "source": [
    "p_data = p_data.assign(erotic_charge = 0.5 * p_data.RMS_contrast_log + 0.5*p_data.AVG_entropy_log)"
   ]
  },
  {
   "cell_type": "code",
   "execution_count": 343,
   "metadata": {},
   "outputs": [
    {
     "data": {
      "image/png": "[encoded data removed]",
      "text/plain": [
       "<Figure size 432x288 with 1 Axes>"
      ]
     },
     "metadata": {
      "needs_background": "light"
     },
     "output_type": "display_data"
    }
   ],
   "source": [
    "box_3 = sns.boxplot(x=\"Portrait\", y=\"erotic_charge\", data=p_data)"
   ]
  },
  {
   "cell_type": "markdown",
   "metadata": {},
   "source": [
    "**Analysis of Henri Matisse' Portraits**"
   ]
  },
  {
   "cell_type": "code",
   "execution_count": 344,
   "metadata": {},
   "outputs": [],
   "source": [
    "# m_data = m_data.drop(['Unnamed: 0'],axis = 1)"
   ]
  },
  {
   "cell_type": "code",
   "execution_count": 345,
   "metadata": {},
   "outputs": [],
   "source": [
    "m_data = m_data.drop([1,8,10,11,13,14,17]).reset_index(drop = True)"
   ]
  },
  {
   "cell_type": "code",
   "execution_count": 346,
   "metadata": {},
   "outputs": [],
   "source": [
    "m_data = m_data.assign(RMS_contrast_log = np.log2(m_data.RMS_contrast)).assign(AVG_entropy_log = np.log2(m_data.AVG_entropy))\n",
    "m_data = m_data.assign(erotic_charge = 0.5 * m_data.RMS_contrast_log + 0.5*m_data.AVG_entropy_log)"
   ]
  },
  {
   "cell_type": "code",
   "execution_count": 347,
   "metadata": {},
   "outputs": [
    {
     "data": {
      "text/plain": [
       "(0.18838706126513782, 0.21351799959875836)"
      ]
     },
     "execution_count": 347,
     "metadata": {},
     "output_type": "execute_result"
    }
   ],
   "source": [
    "m_data.RMS_contrast.mean(),p_data.RMS_contrast.mean()"
   ]
  },
  {
   "cell_type": "code",
   "execution_count": 352,
   "metadata": {},
   "outputs": [
    {
     "data": {
      "text/plain": [
       "<matplotlib.collections.PathCollection at 0x1240cf860>"
      ]
     },
     "execution_count": 352,
     "metadata": {},
     "output_type": "execute_result"
    },
    {
     "data": {
      "image/png": "[encoded data removed]",
      "text/plain": [
       "<Figure size 432x288 with 1 Axes>"
      ]
     },
     "metadata": {
      "needs_background": "light"
     },
     "output_type": "display_data"
    }
   ],
   "source": [
    "plt.scatter(m_data.Year, m_data.erotic_charge, c='blue', alpha=0.5)"
   ]
  },
  {
   "cell_type": "code",
   "execution_count": 350,
   "metadata": {},
   "outputs": [
    {
     "data": {
      "image/png": "[encoded data removed]",
      "text/plain": [
       "<Figure size 432x288 with 1 Axes>"
      ]
     },
     "metadata": {
      "needs_background": "light"
     },
     "output_type": "display_data"
    }
   ],
   "source": [
    "box_4 = sns.boxplot(x =\"Portrait\" ,y=\"RMS_contrast_log\",data=m_data)"
   ]
  },
  {
   "cell_type": "code",
   "execution_count": 351,
   "metadata": {},
   "outputs": [
    {
     "data": {
      "image/png": "[encoded data removed]",
      "text/plain": [
       "<Figure size 432x288 with 1 Axes>"
      ]
     },
     "metadata": {
      "needs_background": "light"
     },
     "output_type": "display_data"
    }
   ],
   "source": [
    "box_5 = sns.boxplot(x =\"Portrait\" ,y=\"AVG_entropy_log\",data=m_data)"
   ]
  },
  {
   "cell_type": "code",
   "execution_count": 259,
   "metadata": {},
   "outputs": [
    {
     "data": {
      "image/png": "[encoded data removed]",
      "text/plain": [
       "<Figure size 432x288 with 1 Axes>"
      ]
     },
     "metadata": {
      "needs_background": "light"
     },
     "output_type": "display_data"
    }
   ],
   "source": [
    "box_6 = sns.boxplot(x = \"Portrait\", y = \"erotic_charge\", data=m_data)"
   ]
  },
  {
   "cell_type": "code",
   "execution_count": 172,
   "metadata": {},
   "outputs": [
    {
     "data": {
      "text/plain": [
       "Portrait\n",
       "0.0    0.204031\n",
       "1.0    0.189835\n",
       "Name: RMS_contrast, dtype: float64"
      ]
     },
     "execution_count": 172,
     "metadata": {},
     "output_type": "execute_result"
    }
   ],
   "source": [
    "m_data.groupby(['Portrait']).RMS_contrast.mean()"
   ]
  },
  {
   "cell_type": "code",
   "execution_count": 173,
   "metadata": {},
   "outputs": [
    {
     "data": {
      "text/html": [
       "<div>\n",
       "<style scoped>\n",
       "    .dataframe tbody tr th:only-of-type {\n",
       "        vertical-align: middle;\n",
       "    }\n",
       "\n",
       "    .dataframe tbody tr th {\n",
       "        vertical-align: top;\n",
       "    }\n",
       "\n",
       "    .dataframe thead th {\n",
       "        text-align: right;\n",
       "    }\n",
       "</style>\n",
       "<table border=\"1\" class=\"dataframe\">\n",
       "  <thead>\n",
       "    <tr style=\"text-align: right;\">\n",
       "      <th></th>\n",
       "      <th>count</th>\n",
       "      <th>mean</th>\n",
       "      <th>std</th>\n",
       "      <th>min</th>\n",
       "      <th>25%</th>\n",
       "      <th>50%</th>\n",
       "      <th>75%</th>\n",
       "      <th>max</th>\n",
       "    </tr>\n",
       "    <tr>\n",
       "      <th>Portrait</th>\n",
       "      <th></th>\n",
       "      <th></th>\n",
       "      <th></th>\n",
       "      <th></th>\n",
       "      <th></th>\n",
       "      <th></th>\n",
       "      <th></th>\n",
       "      <th></th>\n",
       "    </tr>\n",
       "  </thead>\n",
       "  <tbody>\n",
       "    <tr>\n",
       "      <th>0.0</th>\n",
       "      <td>9.0</td>\n",
       "      <td>4.964271</td>\n",
       "      <td>0.325009</td>\n",
       "      <td>4.405845</td>\n",
       "      <td>4.706921</td>\n",
       "      <td>5.063866</td>\n",
       "      <td>5.171739</td>\n",
       "      <td>5.315706</td>\n",
       "    </tr>\n",
       "    <tr>\n",
       "      <th>1.0</th>\n",
       "      <td>49.0</td>\n",
       "      <td>5.018514</td>\n",
       "      <td>0.310499</td>\n",
       "      <td>4.107550</td>\n",
       "      <td>4.882069</td>\n",
       "      <td>5.059293</td>\n",
       "      <td>5.151394</td>\n",
       "      <td>5.538950</td>\n",
       "    </tr>\n",
       "  </tbody>\n",
       "</table>\n",
       "</div>"
      ],
      "text/plain": [
       "          count      mean       std       min       25%       50%       75%  \\\n",
       "Portrait                                                                      \n",
       "0.0         9.0  4.964271  0.325009  4.405845  4.706921  5.063866  5.171739   \n",
       "1.0        49.0  5.018514  0.310499  4.107550  4.882069  5.059293  5.151394   \n",
       "\n",
       "               max  \n",
       "Portrait            \n",
       "0.0       5.315706  \n",
       "1.0       5.538950  "
      ]
     },
     "execution_count": 173,
     "metadata": {},
     "output_type": "execute_result"
    }
   ],
   "source": [
    "m_data.groupby(['Portrait']).AVG_entropy.describe()"
   ]
  },
  {
   "cell_type": "code",
   "execution_count": 355,
   "metadata": {},
   "outputs": [],
   "source": [
    "p_data.to_csv (r'../data/picasso_data.csv', index = False, header=True)"
   ]
  },
  {
   "cell_type": "code",
   "execution_count": 356,
   "metadata": {},
   "outputs": [],
   "source": [
    "m_data.to_csv (r'../data/matisse_data.csv', index = False, header=True)"
   ]
  }
 ],
 "metadata": {
  "kernelspec": {
   "display_name": "Python 3",
   "language": "python",
   "name": "python3"
  },
  "language_info": {
   "codemirror_mode": {
    "name": "ipython",
    "version": 3
   },
   "file_extension": ".py",
   "mimetype": "text/x-python",
   "name": "python",
   "nbconvert_exporter": "python",
   "pygments_lexer": "ipython3",
   "version": "3.6.2"
  }
 },
 "nbformat": 4,
 "nbformat_minor": 2
}
