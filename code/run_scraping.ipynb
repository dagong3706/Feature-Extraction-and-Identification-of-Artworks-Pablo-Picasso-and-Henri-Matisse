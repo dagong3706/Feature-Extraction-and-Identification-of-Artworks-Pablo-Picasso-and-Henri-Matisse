{
 "cells": [
  {
   "cell_type": "code",
   "execution_count": 12,
   "metadata": {
    "scrolled": true
   },
   "outputs": [
    {
     "name": "stdout",
     "output_type": "stream",
     "text": [
      "https://www.pablo-ruiz-picasso.net/topviews.php\n",
      "https://www.pablo-ruiz-picasso.net/topshared.php\n",
      "https://www.pablo-ruiz-picasso.net/topexpensive.php\n",
      "start downloading....\n"
     ]
    }
   ],
   "source": [
    "%run -i 'scraping_data.py'"
   ]
  },
  {
   "cell_type": "code",
   "execution_count": 13,
   "metadata": {},
   "outputs": [
    {
     "data": {
      "text/html": [
       "<div>\n",
       "<style scoped>\n",
       "    .dataframe tbody tr th:only-of-type {\n",
       "        vertical-align: middle;\n",
       "    }\n",
       "\n",
       "    .dataframe tbody tr th {\n",
       "        vertical-align: top;\n",
       "    }\n",
       "\n",
       "    .dataframe thead th {\n",
       "        text-align: right;\n",
       "    }\n",
       "</style>\n",
       "<table border=\"1\" class=\"dataframe\">\n",
       "  <thead>\n",
       "    <tr style=\"text-align: right;\">\n",
       "      <th></th>\n",
       "      <th>Unnamed: 0</th>\n",
       "      <th>0</th>\n",
       "    </tr>\n",
       "  </thead>\n",
       "  <tbody>\n",
       "    <tr>\n",
       "      <th>0</th>\n",
       "      <td>paintings-thmbnls150-bb.jpg</td>\n",
       "      <td>('Standing Model', 1901)</td>\n",
       "    </tr>\n",
       "    <tr>\n",
       "      <th>1</th>\n",
       "      <td>paintings-thmbnls150-ar.jpg</td>\n",
       "      <td>('Self Portrait', 1900)</td>\n",
       "    </tr>\n",
       "    <tr>\n",
       "      <th>2</th>\n",
       "      <td>paintings-thmbnls150-ba.jpg</td>\n",
       "      <td>('Male Model', 1900)</td>\n",
       "    </tr>\n",
       "    <tr>\n",
       "      <th>3</th>\n",
       "      <td>paintings-orient_99_thmb.jpg</td>\n",
       "      <td>('Vase with Fruit', 1901)</td>\n",
       "    </tr>\n",
       "    <tr>\n",
       "      <th>4</th>\n",
       "      <td>paintings-thmbnls150-glimpse.jpg</td>\n",
       "      <td>('Glimpse of Notre Dame', 1902)</td>\n",
       "    </tr>\n",
       "    <tr>\n",
       "      <th>...</th>\n",
       "      <td>...</td>\n",
       "      <td>...</td>\n",
       "    </tr>\n",
       "    <tr>\n",
       "      <th>149</th>\n",
       "      <td>paintings-thmbnls150-gn.jpg</td>\n",
       "      <td>('Woman on a Dark Background', 1942)</td>\n",
       "    </tr>\n",
       "    <tr>\n",
       "      <th>150</th>\n",
       "      <td>paintings-thmbnls150-gm.jpg</td>\n",
       "      <td>('The Dark Door', 1942)</td>\n",
       "    </tr>\n",
       "    <tr>\n",
       "      <th>151</th>\n",
       "      <td>paintings-thmbnls150-fz.jpg</td>\n",
       "      <td>('Young Girl in Rose', 1942)</td>\n",
       "    </tr>\n",
       "    <tr>\n",
       "      <th>152</th>\n",
       "      <td>paintings-select-gp.jpg</td>\n",
       "      <td>('A Study for The Armchair', 1942)</td>\n",
       "    </tr>\n",
       "    <tr>\n",
       "      <th>153</th>\n",
       "      <td>paintings-thmbnls150-dh.jpg</td>\n",
       "      <td>('Sunlit Interior', 1942)</td>\n",
       "    </tr>\n",
       "  </tbody>\n",
       "</table>\n",
       "<p>154 rows × 2 columns</p>\n",
       "</div>"
      ],
      "text/plain": [
       "                           Unnamed: 0                                     0\n",
       "0         paintings-thmbnls150-bb.jpg              ('Standing Model', 1901)\n",
       "1         paintings-thmbnls150-ar.jpg               ('Self Portrait', 1900)\n",
       "2         paintings-thmbnls150-ba.jpg                  ('Male Model', 1900)\n",
       "3        paintings-orient_99_thmb.jpg             ('Vase with Fruit', 1901)\n",
       "4    paintings-thmbnls150-glimpse.jpg       ('Glimpse of Notre Dame', 1902)\n",
       "..                                ...                                   ...\n",
       "149       paintings-thmbnls150-gn.jpg  ('Woman on a Dark Background', 1942)\n",
       "150       paintings-thmbnls150-gm.jpg               ('The Dark Door', 1942)\n",
       "151       paintings-thmbnls150-fz.jpg          ('Young Girl in Rose', 1942)\n",
       "152           paintings-select-gp.jpg    ('A Study for The Armchair', 1942)\n",
       "153       paintings-thmbnls150-dh.jpg             ('Sunlit Interior', 1942)\n",
       "\n",
       "[154 rows x 2 columns]"
      ]
     },
     "execution_count": 13,
     "metadata": {},
     "output_type": "execute_result"
    }
   ],
   "source": [
    "# pd.read_csv('../data/henri_dic.csv')"
   ]
  },
  {
   "cell_type": "code",
   "execution_count": null,
   "metadata": {},
   "outputs": [],
   "source": []
  }
 ],
 "metadata": {
  "kernelspec": {
   "display_name": "Python 3",
   "language": "python",
   "name": "python3"
  },
  "language_info": {
   "codemirror_mode": {
    "name": "ipython",
    "version": 3
   },
   "file_extension": ".py",
   "mimetype": "text/x-python",
   "name": "python",
   "nbconvert_exporter": "python",
   "pygments_lexer": "ipython3",
   "version": "3.7.7"
  }
 },
 "nbformat": 4,
 "nbformat_minor": 4
}
